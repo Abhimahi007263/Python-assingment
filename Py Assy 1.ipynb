{
 "cells": [
  {
   "cell_type": "markdown",
   "metadata": {},
   "source": [
    "### Python Assingment 1"
   ]
  },
  {
   "cell_type": "code",
   "execution_count": 1,
   "metadata": {},
   "outputs": [
    {
     "name": "stdout",
     "output_type": "stream",
     "text": [
      "2030,2065,2100,2135,2170,2205,2240,2275,2310,2345,2380,2415,2450,2485,2520,2555,2590,2625,2660,2695,2730,2765,2800,2835,2870,2905,2940,2975,3010,3045,3080,3115,3150,3185\n"
     ]
    }
   ],
   "source": [
    "l=[]\n",
    "## First we choose a range in which we have to select the numbers and append in our list\n",
    "for i in range(2000,3201):\n",
    "## And then we give the condition to check whther the number is divisible by 5 and 7.\n",
    "    if i%7==0 and i%5==0:\n",
    "        l.append(str(i))\n",
    "##At last we print the numbers of the list.\n",
    "print(\",\".join(l))"
   ]
  },
  {
   "cell_type": "code",
   "execution_count": 17,
   "metadata": {},
   "outputs": [
    {
     "name": "stdout",
     "output_type": "stream",
     "text": [
      "Enter first nameJakka\n",
      "Enter Last nameAbhishek\n",
      "Hello Abhishek Jakka!\n"
     ]
    }
   ],
   "source": [
    "x1=input(\"Enter first name\")\n",
    "x2=input(\"Enter Last name\")\n",
    "## We ask the user to input first and last name an then print acc. to the below format\n",
    "print(\"Hello \"  + x2 + \" \" + x1 + \"!\")"
   ]
  },
  {
   "cell_type": "code",
   "execution_count": 12,
   "metadata": {},
   "outputs": [
    {
     "name": "stdout",
     "output_type": "stream",
     "text": [
      "The Volume of sphere is:  7238.229473870882\n"
     ]
    }
   ],
   "source": [
    "pi=3.1415926535897931\n",
    "r= 12.0\n",
    "v= 4.0/3.0 *pi*r**3\n",
    "## We give the value of pie and r given and which is required to solve the problem and print the desired volume.\n",
    "print(\"The Volume of sphere is: \",v)"
   ]
  },
  {
   "cell_type": "code",
   "execution_count": null,
   "metadata": {},
   "outputs": [],
   "source": []
  }
 ],
 "metadata": {
  "kernelspec": {
   "display_name": "Python 3",
   "language": "python",
   "name": "python3"
  },
  "language_info": {
   "codemirror_mode": {
    "name": "ipython",
    "version": 3
   },
   "file_extension": ".py",
   "mimetype": "text/x-python",
   "name": "python",
   "nbconvert_exporter": "python",
   "pygments_lexer": "ipython3",
   "version": "3.7.6"
  }
 },
 "nbformat": 4,
 "nbformat_minor": 4
}
